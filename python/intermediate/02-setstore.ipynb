{
 "metadata": {
  "name": ""
 },
 "nbformat": 3,
 "nbformat_minor": 0,
 "worksheets": [
  {
   "cells": [
    {
     "cell_type": "heading",
     "level": 1,
     "metadata": {
      "cell_tags": []
     },
     "source": [
      "Sets and Storage"
     ]
    },
    {
     "cell_type": "markdown",
     "metadata": {
      "cell_tags": []
     },
     "source": [
      "FIXME: motivation"
     ]
    },
    {
     "cell_type": "markdown",
     "metadata": {
      "cell_tags": [
       "objectives"
      ]
     },
     "source": [
      "## Objectives\n",
      "\n",
      "*   Explain why some programs that use lists become proportionally slower as data sizes increase.\n",
      "*   Explain the three adjectives in \"unordered collection of distinct values\".\n",
      "*   Use a set to eliminate duplicate values from data."
     ]
    },
    {
     "cell_type": "heading",
     "level": 2,
     "metadata": {},
     "source": [
      "Sets"
     ]
    },
    {
     "cell_type": "markdown",
     "metadata": {},
     "source": [
      "Suppose we have a list of all the atoms in the warehouse,\n",
      "and we want to know which different kinds we have.\n",
      "We could solve this problem using a list to store the unique atomic symbols like this:"
     ]
    },
    {
     "cell_type": "code",
     "collapsed": false,
     "input": [
      "def another_atom(seen, atom):\n",
      "    for i in range(len(seen)):\n",
      "        if seen[i] == atom:\n",
      "            return # atom is already present, so do not re-add\n",
      "    seen.append(atom)"
     ],
     "language": "python",
     "metadata": {},
     "outputs": [],
     "prompt_number": 1
    },
    {
     "cell_type": "markdown",
     "metadata": {},
     "source": [
      "`another_atom`'s arguments are a list of the unique atoms we've already seen\n",
      "and the symbol of the atom we're adding.\n",
      "Inside the function,\n",
      "we loop over the atoms that are already in the list.\n",
      "If we find the one we're trying to add,\n",
      "we exit the function immediately so that we don't have duplicates in our list.\n",
      "If we reach the end of the list without finding this symbol,\n",
      "though,\n",
      "we append it.\n",
      "This is a common [design pattern](../../gloss.html#design-pattern):\n",
      "either we find pre-existing data in a loop and return right away,\n",
      "or take some action if we finish the loop without finding a match.\n",
      "\n",
      "Let's watch this function in action.\n",
      "We start with an empty list.\n",
      "If the first atomic symbol is `'Na'`,\n",
      "we find no match (since the list is empty),\n",
      "so we add it.\n",
      "The next symbol is `'Fe'`;\n",
      "it doesn't match `'Na'`,\n",
      "so we add it as well.\n",
      "Our third symbol is `'Na'` again.\n",
      "It matches the first entry in the list,\n",
      "so we exit the function immediately.\n",
      "\n",
      "FIXME: convert to table\n",
      "~~~\n",
      "  Before           Adding   After\n",
      "  ---------------- -------- ----------------\n",
      "  `[]`             `'Na'`   `['Na']`\n",
      "  `['Na']`         `'Fe'`   `['Na', 'Fe']`\n",
      "  `['Na', 'Fe']`   `'Na'`   `['Na', 'Fe']`\n",
      "~~~"
     ]
    },
    {
     "cell_type": "markdown",
     "metadata": {},
     "source": [
      "This code works, but it is inefficient.\n",
      "Suppose there are *V* distinct atomic symbols in our data,\n",
      "and *N* symbols in total.\n",
      "Each time we add an observation to our list,\n",
      "we have to look through an average of *V/2* entries.\n",
      "The total number of actions in our program is therefore approximately *NV/2*.\n",
      "This is only a few times larger than *N* if *V* is small,\n",
      "but what happens if we're keeping track of something like patient records rather than atoms?\n",
      "In that case,\n",
      "most values are distinct,\n",
      "so *V* is approximately the same as *N*,\n",
      "which means that our running time is proportional to *N^2^/2*.\n",
      "That's bad news:\n",
      "if we double the size of our data set,\n",
      "our program runs four times slower,\n",
      "and if we double it again,\n",
      "our program will have slowed down by a factor of 16.\n",
      "\n",
      "There's a better way to solve this problem that is simpler to use and runs much faster.\n",
      "The trick is to use a [set](glossary.html#set) to store the symbols.\n",
      "A set is an unordered collection of distinct items.\n",
      "The word \"collection\" means that a set can hold zero or more values.\n",
      "The word \"distinct\" means that any particular value is either in the set or not:\n",
      "a set can't store two or more copies of the same thing.\n",
      "And finally,\n",
      "\"unordered\" means that values are simply \"in\" the set.\n",
      "They're not in any particular order,\n",
      "and there's no first value or last value.\n",
      "\n",
      "To create a set, we simply write down its elements inside curly braces:"
     ]
    },
    {
     "cell_type": "code",
     "collapsed": false,
     "input": [
      "primes = {3, 5, 7}"
     ],
     "language": "python",
     "metadata": {},
     "outputs": [],
     "prompt_number": 2
    },
    {
     "cell_type": "markdown",
     "metadata": {},
     "source": [
      "FIXME: diagram"
     ]
    },
    {
     "cell_type": "markdown",
     "metadata": {},
     "source": [
      "However,\n",
      "we have to use `set()` to create an empty set\n",
      "because the symbol `{}` was already being used for something else when sets were added to Python:"
     ]
    },
    {
     "cell_type": "code",
     "collapsed": false,
     "input": [
      "even_primes = set() # not '{}' as in math"
     ],
     "language": "python",
     "metadata": {},
     "outputs": [],
     "prompt_number": 3
    },
    {
     "cell_type": "markdown",
     "metadata": {},
     "source": [
      "We'll meet that \"something else\" in our [next notebook](03-dict.ipynb)."
     ]
    },
    {
     "cell_type": "markdown",
     "metadata": {},
     "source": [
      "To see what we can do with sets,\n",
      "let's create three holding the integers 0 through 9,\n",
      "the first half of that same range of numbers (0 through 4),\n",
      "and the odd values 1, 3, 5, 7, and 9:"
     ]
    },
    {
     "cell_type": "code",
     "collapsed": false,
     "input": [
      "ten = {0, 1, 2, 3, 4, 5, 6, 7, 8, 9}\n",
      "lows = {0, 1, 2, 3, 4}\n",
      "odds = {1, 3, 5, 7, 9}"
     ],
     "language": "python",
     "metadata": {},
     "outputs": [],
     "prompt_number": 4
    },
    {
     "cell_type": "markdown",
     "metadata": {},
     "source": [
      "If we ask Python to display one of our sets,\n",
      "it shows us this:"
     ]
    },
    {
     "cell_type": "code",
     "collapsed": false,
     "input": [
      "print lows"
     ],
     "language": "python",
     "metadata": {},
     "outputs": [
      {
       "output_type": "stream",
       "stream": "stdout",
       "text": [
        "set([0, 1, 2, 3, 4])\n"
       ]
      }
     ],
     "prompt_number": 5
    },
    {
     "cell_type": "markdown",
     "metadata": {},
     "source": [
      "which is a hint that we can also create a set out of a list:"
     ]
    },
    {
     "cell_type": "code",
     "collapsed": false,
     "input": [
      "ten = set(range(0, 10)) # 'range' generates [0, 1, ..., 9]\n",
      "print ten"
     ],
     "language": "python",
     "metadata": {},
     "outputs": [
      {
       "output_type": "stream",
       "stream": "stdout",
       "text": [
        "set([0, 1, 2, 3, 4, 5, 6, 7, 8, 9])\n"
       ]
      }
     ],
     "prompt_number": 6
    },
    {
     "cell_type": "markdown",
     "metadata": {},
     "source": [
      "Sets have methods just like strings and lists,\n",
      "most of which create new sets instead of modifying the set they are called for.\n",
      "Most of these methods come straight from mathematics:"
     ]
    },
    {
     "cell_type": "code",
     "collapsed": false,
     "input": [
      "print lows.union(odds)"
     ],
     "language": "python",
     "metadata": {},
     "outputs": [
      {
       "output_type": "stream",
       "stream": "stdout",
       "text": [
        "set([0, 1, 2, 3, 4, 5, 7, 9])\n"
       ]
      }
     ],
     "prompt_number": 7
    },
    {
     "cell_type": "code",
     "collapsed": false,
     "input": [
      "print lows.intersection(odds)"
     ],
     "language": "python",
     "metadata": {},
     "outputs": [
      {
       "output_type": "stream",
       "stream": "stdout",
       "text": [
        "set([1, 3])\n"
       ]
      }
     ],
     "prompt_number": 8
    },
    {
     "cell_type": "code",
     "collapsed": false,
     "input": [
      "print lows.difference(odds)"
     ],
     "language": "python",
     "metadata": {},
     "outputs": [
      {
       "output_type": "stream",
       "stream": "stdout",
       "text": [
        "set([0, 2, 4])\n"
       ]
      }
     ],
     "prompt_number": 9
    },
    {
     "cell_type": "markdown",
     "metadata": {},
     "source": [
      "Not all set methods return new sets.\n",
      "For example,\n",
      "`issubset` returns `True` or `False` depending on whether\n",
      "all the elements in one set are present in another:"
     ]
    },
    {
     "cell_type": "code",
     "collapsed": false,
     "input": [
      "print lows.issubset(ten)"
     ],
     "language": "python",
     "metadata": {},
     "outputs": [
      {
       "output_type": "stream",
       "stream": "stdout",
       "text": [
        "True\n"
       ]
      }
     ],
     "prompt_number": 10
    },
    {
     "cell_type": "code",
     "collapsed": false,
     "input": [
      "print odds.issubset(lows)"
     ],
     "language": "python",
     "metadata": {},
     "outputs": [
      {
       "output_type": "stream",
       "stream": "stdout",
       "text": [
        "False\n"
       ]
      }
     ],
     "prompt_number": 11
    },
    {
     "cell_type": "markdown",
     "metadata": {},
     "source": [
      "A complementary method called `issuperset` also exists,\n",
      "and does the obvious thing.\n",
      "\n",
      "We can count how many things are in a set using `len`,\n",
      "and check whether something is in a set using `in`:"
     ]
    },
    {
     "cell_type": "code",
     "collapsed": false,
     "input": [
      "print len(odds)"
     ],
     "language": "python",
     "metadata": {},
     "outputs": [
      {
       "output_type": "stream",
       "stream": "stdout",
       "text": [
        "5\n"
       ]
      }
     ],
     "prompt_number": 12
    },
    {
     "cell_type": "code",
     "collapsed": false,
     "input": [
      "print 6 in odds"
     ],
     "language": "python",
     "metadata": {},
     "outputs": [
      {
       "output_type": "stream",
       "stream": "stdout",
       "text": [
        "False\n"
       ]
      }
     ],
     "prompt_number": 13
    },
    {
     "cell_type": "markdown",
     "metadata": {},
     "source": [
      "We can also change what's in a set using `add` and `remove`:"
     ]
    },
    {
     "cell_type": "code",
     "collapsed": false,
     "input": [
      "small = set([0, 1])\n",
      "print 'small starts as', small"
     ],
     "language": "python",
     "metadata": {},
     "outputs": [
      {
       "output_type": "stream",
       "stream": "stdout",
       "text": [
        "small starts as set([0, 1])\n"
       ]
      }
     ],
     "prompt_number": 14
    },
    {
     "cell_type": "code",
     "collapsed": false,
     "input": [
      "small.add(2)\n",
      "print 'small becomes', small"
     ],
     "language": "python",
     "metadata": {},
     "outputs": [
      {
       "output_type": "stream",
       "stream": "stdout",
       "text": [
        "small becomes set([0, 1, 2])\n"
       ]
      }
     ],
     "prompt_number": 15
    },
    {
     "cell_type": "code",
     "collapsed": false,
     "input": [
      "small.remove(0)\n",
      "print 'small finishes as', small"
     ],
     "language": "python",
     "metadata": {},
     "outputs": [
      {
       "output_type": "stream",
       "stream": "stdout",
       "text": [
        "small finishes as set([1, 2])\n"
       ]
      }
     ],
     "prompt_number": 16
    },
    {
     "cell_type": "markdown",
     "metadata": {},
     "source": [
      "`add` and `remove` do *not* return a new set,\n",
      "or the set that's been modified.\n",
      "Instead,\n",
      "they return the special value `None`,\n",
      "which is a common Python convention for things that update collections in place:"
     ]
    },
    {
     "cell_type": "code",
     "collapsed": false,
     "input": [
      "example = set()\n",
      "print 'result of adding is', example.add(5)\n",
      "print 'example after adding is', example"
     ],
     "language": "python",
     "metadata": {},
     "outputs": [
      {
       "output_type": "stream",
       "stream": "stdout",
       "text": [
        "result of adding is None\n",
        "example after adding is set([5])\n"
       ]
      }
     ],
     "prompt_number": 17
    },
    {
     "cell_type": "markdown",
     "metadata": {},
     "source": [
      "To make programs easier to type and read,\n",
      "most of the methods we've just seen can be written using operators as well.\n",
      "For example,\n",
      "instead of `lows.issubset(ten)`,\n",
      "we can write `lows <= ten`.\n",
      "There are even a couple of operators,\n",
      "like the strict subset test `<`,\n",
      "that don't have long-winded equivalents:"
     ]
    },
    {
     "cell_type": "markdown",
     "metadata": {},
     "source": [
      "FIXME: convert to table\n",
      "~~~\n",
      "  Operation           As Method                           Using Operator\n",
      "  ------------------- ----------------------------------- ----------------\n",
      "  *difference*        `lows.difference(odds)`             `lows - odds`\n",
      "  *intersection*      `lows.intersection(odds)`           `lows & odds`\n",
      "  *subset*            `lows.issubset(ten)`                `lows <= ten`\n",
      "  *strict subset*                                         `lows < ten`\n",
      "  *superset*          `lows.issuperset(ten)`              `lows >= odds`\n",
      "  *strict superset*                                       `lows >= odds`\n",
      "  *exclusive or*      `lows.symmetric_difference(odds)`   `lows ^ odds`\n",
      "  *union*             `lows.union(odds)`                  `lows | odds`\n",
      "~~~"
     ]
    },
    {
     "cell_type": "markdown",
     "metadata": {},
     "source": [
      "Now let's solve our \"unique atoms\" problem.\n",
      "Our example file contains six line:"
     ]
    },
    {
     "cell_type": "code",
     "collapsed": false,
     "input": [
      "!cat atoms-6.txt"
     ],
     "language": "python",
     "metadata": {},
     "outputs": [
      {
       "output_type": "stream",
       "stream": "stdout",
       "text": [
        "Na\r\n",
        "Fe\r\n",
        "Na\r\n",
        "Si\r\n",
        "Pd\r\n",
        "Na\r\n"
       ]
      }
     ],
     "prompt_number": 18
    },
    {
     "cell_type": "markdown",
     "metadata": {},
     "source": [
      "but only four unique kinds of atoms.\n",
      "Using a set,\n",
      "we can filter duplicates like this:"
     ]
    },
    {
     "cell_type": "code",
     "collapsed": false,
     "input": [
      "unique = set()\n",
      "with open('atoms-6.txt', 'r') as reader:\n",
      "    for line in reader:\n",
      "        atom = line.strip()\n",
      "        unique.add(atom)\n",
      "print unique"
     ],
     "language": "python",
     "metadata": {},
     "outputs": [
      {
       "output_type": "stream",
       "stream": "stdout",
       "text": [
        "set(['Na', 'Si', 'Fe', 'Pd'])\n"
       ]
      }
     ],
     "prompt_number": 19
    },
    {
     "cell_type": "markdown",
     "metadata": {},
     "source": [
      "The first line creates an empty set called `unique`\n",
      "to serve as our [accumulator](../../gloss.html#accumulator).\n",
      "The next three lines read atom names from the file\n",
      "(stripping off leading or trailing spaces and newlines).\n",
      "Line 5, `unique.add(atom)`, puts the atom in the set;\n",
      "if it's already there,\n",
      "this does nothing,\n",
      "because sets only keep unique entries.\n",
      "We end by creating the set we've created.\n",
      "\n",
      "The most important thing to notice about this example\n",
      "is the order of the entries in `unique` after the loop is done.\n",
      "Iron (`Fe`) appeared *before* silicon (`Si`) in the file,\n",
      "but shows up *after* it in the final set.\n",
      "In order to understand why,\n",
      "and the circumstances in which sets and things like them\n",
      "are more efficient than lists,\n",
      "we need to look at how sets actually store data."
     ]
    },
    {
     "cell_type": "markdown",
     "metadata": {},
     "source": [
      "## Challenges\n",
      "\n",
      "1.  Mathematicians are quite comfortable negating sets: for example, the\n",
      "    negation of the set `{1, 2}` is all numbers that aren't 1 or 2. Why\n",
      "    don't Python's sets have a `not` operator?\n",
      "2.  Fan has created a set containing the names of five noble gases:\n",
      "\n",
      "        >>> print gases\n",
      "        set(['helium', 'argon', 'neon', 'xenon', 'radon'])\n",
      "\n",
      "    He would like to print them in alphabetical order. What is one\n",
      "    simple way to do this? (Hint: the `list` function converts its\n",
      "    arguments to a list.)\n",
      "\n",
      "3.  Fan has the following code:\n",
      "\n",
      "        left = {'He', 'Ar', 'Ne'}\n",
      "        right = set()\n",
      "        while len(left) > len(right):\n",
      "            temp = left.pop()\n",
      "            right.add(temp)\n",
      "\n",
      "    What values could \\`left\\` and \\`right\\` have after this code is\n",
      "    finished running? Explain why your answer makes this code hard to\n",
      "    test.\n",
      "\n",
      "4.  Fan has written the following code:\n",
      "\n",
      "        left = {'He', 'Ar', 'Ne'}\n",
      "        right = {'Ar', 'Xe'}\n",
      "        for element in left:                # X\n",
      "            if element not in right:        # X\n",
      "                right.add(element)          # X\n",
      "        assert left.issubset(right)\n",
      "\n",
      "    What single line could be used in place of the three marked with 'X'\n",
      "    to achieve the same effect?\n",
      "\n",
      "5.  Fan has written a program to print the names of the distinct atoms\n",
      "    in a data file:\n",
      "\n",
      "    ~~~~ {src=\"setdict/print_names.py\"}\n",
      "    # Print the name of each atom in the data file once.\n",
      "    reader = open('atoms.txt', 'r')\n",
      "    seen = set()\n",
      "    for line in reader:\n",
      "        name = line.strip()\n",
      "        if name in seen:\n",
      "            print name\n",
      "        else:\n",
      "            seen.add(name)\n",
      "    reader.close()\n",
      "    ~~~~\n",
      "\n",
      "    When he runs the program on this data file:\n",
      "\n",
      "    ~~~~ {src=\"setdict/atoms.txt\"}\n",
      "    Na\n",
      "    Fe\n",
      "    Na\n",
      "    ~~~~\n",
      "\n",
      "    it only prints:\n",
      "\n",
      "        Na\n",
      "\n",
      "    What is the simplest change you can make to the program so that it\n",
      "    produces the correct answer?"
     ]
    },
    {
     "cell_type": "markdown",
     "metadata": {
      "cell_tags": [
       "keypoints"
      ]
     },
     "source": [
      "## Key Points\n",
      "\n",
      "*   Use sets to store distinct unique values.\n",
      "*   Create sets using `set()` or `{v1, v2, ...}`.\n",
      "*   Sets are mutable, i.e., they can be updated in place like lists.\n",
      "*   A loop over a set produces each element once, in arbitrary order.\n",
      "*   Use sets to find unique things."
     ]
    }
   ],
   "metadata": {}
  }
 ]
}